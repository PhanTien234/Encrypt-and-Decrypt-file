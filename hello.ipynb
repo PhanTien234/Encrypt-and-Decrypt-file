{
 "cells": [
  {
   "cell_type": "code",
   "execution_count": 4,
   "metadata": {},
   "outputs": [],
   "source": [
    "import os\n",
    "import sys"
   ]
  },
  {
   "cell_type": "code",
   "execution_count": 5,
   "metadata": {},
   "outputs": [
    {
     "name": "stdout",
     "output_type": "stream",
     "text": [
      "c:\\Users\\PHANMINHTIEN\\OneDrive\\Máy tính\\python\n"
     ]
    }
   ],
   "source": [
    "cwd =os.getcwd()\n",
    "print(cwd)"
   ]
  }
 ],
 "metadata": {
  "interpreter": {
   "hash": "6ac5cc287ba3a5e406560ea08d49cb552217a48d2de483f041a109372c8898fe"
  },
  "kernelspec": {
   "display_name": "Python 3.9.7 64-bit",
   "language": "python",
   "name": "python3"
  },
  "language_info": {
   "codemirror_mode": {
    "name": "ipython",
    "version": 3
   },
   "file_extension": ".py",
   "mimetype": "text/x-python",
   "name": "python",
   "nbconvert_exporter": "python",
   "pygments_lexer": "ipython3",
   "version": "3.9.7"
  },
  "orig_nbformat": 4
 },
 "nbformat": 4,
 "nbformat_minor": 2
}
